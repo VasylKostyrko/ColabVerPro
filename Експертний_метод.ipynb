{
  "nbformat": 4,
  "nbformat_minor": 0,
  "metadata": {
    "colab": {
      "provenance": [],
      "toc_visible": true,
      "authorship_tag": "ABX9TyM/5n/CeykVfYEY7++iNZaO",
      "include_colab_link": true
    },
    "kernelspec": {
      "name": "python3",
      "display_name": "Python 3"
    },
    "language_info": {
      "name": "python"
    }
  },
  "cells": [
    {
      "cell_type": "markdown",
      "metadata": {
        "id": "view-in-github",
        "colab_type": "text"
      },
      "source": [
        "<a href=\"https://colab.research.google.com/github/VasylKostyrko/ColabVerPro/blob/main/%D0%95%D0%BA%D1%81%D0%BF%D0%B5%D1%80%D1%82%D0%BD%D0%B8%D0%B9_%D0%BC%D0%B5%D1%82%D0%BE%D0%B4.ipynb\" target=\"_parent\"><img src=\"https://colab.research.google.com/assets/colab-badge.svg\" alt=\"Open In Colab\"/></a>"
      ]
    },
    {
      "cell_type": "markdown",
      "source": [
        "## **Застосування експертного методу до аналізу ОПП**"
      ],
      "metadata": {
        "id": "aueQ2FgljfrL"
      }
    },
    {
      "cell_type": "markdown",
      "source": [
        "# Завантаження даних з локального комп'ютера.\n",
        "Файл *Експертний_метод_до_ОПП.xlsx*  формату MS Excell\n",
        "<br>завантажуємо з локального комп'ютера.\n",
        "<br>Неіснуюча \"магічна\" команда *cancel*  блокує відображення 16-ого вмісту,файлу.\n",
        "<br>А блок *try-except* блокує появу помилки."
      ],
      "metadata": {
        "id": "De9HakeAieFy"
      }
    },
    {
      "cell_type": "code",
      "execution_count": 1,
      "metadata": {
        "colab": {
          "base_uri": "https://localhost:8080/",
          "height": 73
        },
        "id": "EGrh4gxPqsNO",
        "outputId": "f235ebf8-0937-49d9-e8d7-e9411b0118f2"
      },
      "outputs": [
        {
          "output_type": "display_data",
          "data": {
            "text/plain": [
              "<IPython.core.display.HTML object>"
            ],
            "text/html": [
              "\n",
              "     <input type=\"file\" id=\"files-7f79d298-4375-44bb-b92d-cdb00feec939\" name=\"files[]\" multiple disabled\n",
              "        style=\"border:none\" />\n",
              "     <output id=\"result-7f79d298-4375-44bb-b92d-cdb00feec939\">\n",
              "      Upload widget is only available when the cell has been executed in the\n",
              "      current browser session. Please rerun this cell to enable.\n",
              "      </output>\n",
              "      <script>// Copyright 2017 Google LLC\n",
              "//\n",
              "// Licensed under the Apache License, Version 2.0 (the \"License\");\n",
              "// you may not use this file except in compliance with the License.\n",
              "// You may obtain a copy of the License at\n",
              "//\n",
              "//      http://www.apache.org/licenses/LICENSE-2.0\n",
              "//\n",
              "// Unless required by applicable law or agreed to in writing, software\n",
              "// distributed under the License is distributed on an \"AS IS\" BASIS,\n",
              "// WITHOUT WARRANTIES OR CONDITIONS OF ANY KIND, either express or implied.\n",
              "// See the License for the specific language governing permissions and\n",
              "// limitations under the License.\n",
              "\n",
              "/**\n",
              " * @fileoverview Helpers for google.colab Python module.\n",
              " */\n",
              "(function(scope) {\n",
              "function span(text, styleAttributes = {}) {\n",
              "  const element = document.createElement('span');\n",
              "  element.textContent = text;\n",
              "  for (const key of Object.keys(styleAttributes)) {\n",
              "    element.style[key] = styleAttributes[key];\n",
              "  }\n",
              "  return element;\n",
              "}\n",
              "\n",
              "// Max number of bytes which will be uploaded at a time.\n",
              "const MAX_PAYLOAD_SIZE = 100 * 1024;\n",
              "\n",
              "function _uploadFiles(inputId, outputId) {\n",
              "  const steps = uploadFilesStep(inputId, outputId);\n",
              "  const outputElement = document.getElementById(outputId);\n",
              "  // Cache steps on the outputElement to make it available for the next call\n",
              "  // to uploadFilesContinue from Python.\n",
              "  outputElement.steps = steps;\n",
              "\n",
              "  return _uploadFilesContinue(outputId);\n",
              "}\n",
              "\n",
              "// This is roughly an async generator (not supported in the browser yet),\n",
              "// where there are multiple asynchronous steps and the Python side is going\n",
              "// to poll for completion of each step.\n",
              "// This uses a Promise to block the python side on completion of each step,\n",
              "// then passes the result of the previous step as the input to the next step.\n",
              "function _uploadFilesContinue(outputId) {\n",
              "  const outputElement = document.getElementById(outputId);\n",
              "  const steps = outputElement.steps;\n",
              "\n",
              "  const next = steps.next(outputElement.lastPromiseValue);\n",
              "  return Promise.resolve(next.value.promise).then((value) => {\n",
              "    // Cache the last promise value to make it available to the next\n",
              "    // step of the generator.\n",
              "    outputElement.lastPromiseValue = value;\n",
              "    return next.value.response;\n",
              "  });\n",
              "}\n",
              "\n",
              "/**\n",
              " * Generator function which is called between each async step of the upload\n",
              " * process.\n",
              " * @param {string} inputId Element ID of the input file picker element.\n",
              " * @param {string} outputId Element ID of the output display.\n",
              " * @return {!Iterable<!Object>} Iterable of next steps.\n",
              " */\n",
              "function* uploadFilesStep(inputId, outputId) {\n",
              "  const inputElement = document.getElementById(inputId);\n",
              "  inputElement.disabled = false;\n",
              "\n",
              "  const outputElement = document.getElementById(outputId);\n",
              "  outputElement.innerHTML = '';\n",
              "\n",
              "  const pickedPromise = new Promise((resolve) => {\n",
              "    inputElement.addEventListener('change', (e) => {\n",
              "      resolve(e.target.files);\n",
              "    });\n",
              "  });\n",
              "\n",
              "  const cancel = document.createElement('button');\n",
              "  inputElement.parentElement.appendChild(cancel);\n",
              "  cancel.textContent = 'Cancel upload';\n",
              "  const cancelPromise = new Promise((resolve) => {\n",
              "    cancel.onclick = () => {\n",
              "      resolve(null);\n",
              "    };\n",
              "  });\n",
              "\n",
              "  // Wait for the user to pick the files.\n",
              "  const files = yield {\n",
              "    promise: Promise.race([pickedPromise, cancelPromise]),\n",
              "    response: {\n",
              "      action: 'starting',\n",
              "    }\n",
              "  };\n",
              "\n",
              "  cancel.remove();\n",
              "\n",
              "  // Disable the input element since further picks are not allowed.\n",
              "  inputElement.disabled = true;\n",
              "\n",
              "  if (!files) {\n",
              "    return {\n",
              "      response: {\n",
              "        action: 'complete',\n",
              "      }\n",
              "    };\n",
              "  }\n",
              "\n",
              "  for (const file of files) {\n",
              "    const li = document.createElement('li');\n",
              "    li.append(span(file.name, {fontWeight: 'bold'}));\n",
              "    li.append(span(\n",
              "        `(${file.type || 'n/a'}) - ${file.size} bytes, ` +\n",
              "        `last modified: ${\n",
              "            file.lastModifiedDate ? file.lastModifiedDate.toLocaleDateString() :\n",
              "                                    'n/a'} - `));\n",
              "    const percent = span('0% done');\n",
              "    li.appendChild(percent);\n",
              "\n",
              "    outputElement.appendChild(li);\n",
              "\n",
              "    const fileDataPromise = new Promise((resolve) => {\n",
              "      const reader = new FileReader();\n",
              "      reader.onload = (e) => {\n",
              "        resolve(e.target.result);\n",
              "      };\n",
              "      reader.readAsArrayBuffer(file);\n",
              "    });\n",
              "    // Wait for the data to be ready.\n",
              "    let fileData = yield {\n",
              "      promise: fileDataPromise,\n",
              "      response: {\n",
              "        action: 'continue',\n",
              "      }\n",
              "    };\n",
              "\n",
              "    // Use a chunked sending to avoid message size limits. See b/62115660.\n",
              "    let position = 0;\n",
              "    do {\n",
              "      const length = Math.min(fileData.byteLength - position, MAX_PAYLOAD_SIZE);\n",
              "      const chunk = new Uint8Array(fileData, position, length);\n",
              "      position += length;\n",
              "\n",
              "      const base64 = btoa(String.fromCharCode.apply(null, chunk));\n",
              "      yield {\n",
              "        response: {\n",
              "          action: 'append',\n",
              "          file: file.name,\n",
              "          data: base64,\n",
              "        },\n",
              "      };\n",
              "\n",
              "      let percentDone = fileData.byteLength === 0 ?\n",
              "          100 :\n",
              "          Math.round((position / fileData.byteLength) * 100);\n",
              "      percent.textContent = `${percentDone}% done`;\n",
              "\n",
              "    } while (position < fileData.byteLength);\n",
              "  }\n",
              "\n",
              "  // All done.\n",
              "  yield {\n",
              "    response: {\n",
              "      action: 'complete',\n",
              "    }\n",
              "  };\n",
              "}\n",
              "\n",
              "scope.google = scope.google || {};\n",
              "scope.google.colab = scope.google.colab || {};\n",
              "scope.google.colab._files = {\n",
              "  _uploadFiles,\n",
              "  _uploadFilesContinue,\n",
              "};\n",
              "})(self);\n",
              "</script> "
            ]
          },
          "metadata": {}
        },
        {
          "output_type": "stream",
          "name": "stdout",
          "text": [
            "Saving Експертний_метод_до_ОПП.xlsx to Експертний_метод_до_ОПП.xlsx\n"
          ]
        }
      ],
      "source": [
        "try:\n",
        "  from google.colab import files\n",
        "  files.upload()\n",
        "  %%cancel\n",
        "except Exception:\n",
        "  next\n"
      ]
    },
    {
      "cell_type": "markdown",
      "source": [
        "Дані завантажуємо з аркуша *Дані* файлу."
      ],
      "metadata": {
        "id": "h9FzclbCNLQK"
      }
    },
    {
      "cell_type": "code",
      "source": [
        "import pandas as pd\n",
        "df = pd.read_excel('/content/Експертний_метод_до_ОПП.xlsx',\n",
        "                   sheet_name = \"Дані\")"
      ],
      "metadata": {
        "id": "_Uu9YIwZM6FL"
      },
      "execution_count": 2,
      "outputs": []
    },
    {
      "cell_type": "markdown",
      "source": [
        "Переглянемо завантажені дані.\n",
        "<br>NaN свідчить про відсутність даних у відповідній клітинці таблиці.\n"
      ],
      "metadata": {
        "id": "Mmihbep7ONnZ"
      }
    },
    {
      "cell_type": "code",
      "source": [
        "df"
      ],
      "metadata": {
        "colab": {
          "base_uri": "https://localhost:8080/",
          "height": 394
        },
        "id": "FcpkoGYLzIqF",
        "outputId": "8b2ec2d2-e33d-4cae-c47d-48e6a319ef33"
      },
      "execution_count": 6,
      "outputs": [
        {
          "output_type": "execute_result",
          "data": {
            "text/plain": [
              "   Бальна оцінка показників, надана здобувачами освітньо-професійних програм  \\\n",
              "0   Показники (фактори, що впливають на навчання з...                          \n",
              "1               Недостатній рівень підготовки в школі                          \n",
              "2   Недостатнє забезпечення навчально-методичною л...                          \n",
              "3                                   Незручний розклад                          \n",
              "4            Надмірний обсяг навчального навантаження                          \n",
              "5           Необхідність поєднувати навчання і роботу                          \n",
              "6    Розчарування в освітній програмі (спеціальності)                          \n",
              "7                          Особиста неорганізованість                          \n",
              "8                    Відсутність інтересу до навчання                          \n",
              "9   Вплив з боку інших студентів, що пережкоджає п...                          \n",
              "10            Відсутність перспектив працевлаштування                          \n",
              "\n",
              "           Unnamed: 1         Unnamed: 2  Unnamed: 3  \\\n",
              "0   Комп’ютерні науки  Реклама у бізнесі  Менеджмент   \n",
              "1                  32                 37          16   \n",
              "2                  14                  6          19   \n",
              "3                  22                 15          23   \n",
              "4                  44                 18          14   \n",
              "5                  10                 34          26   \n",
              "6                  15                 17          13   \n",
              "7                  23                  7          41   \n",
              "8                  12                 14           5   \n",
              "9                  35                 22          16   \n",
              "10                  5                  8          39   \n",
              "\n",
              "                          Unnamed: 4 Unnamed: 5 Unnamed: 6  \n",
              "0   Логістика та менеджмент продажів    Туризм       Право  \n",
              "1                                 25         13         52  \n",
              "2                                 24         12         28  \n",
              "3                                 17         30         20  \n",
              "4                                 25         27         48  \n",
              "5                                 50         46         35  \n",
              "6                                 15         18         24  \n",
              "7                                 34         36         20  \n",
              "8                                 28         30          7  \n",
              "9                                 18         14         33  \n",
              "10                                43         30          9  "
            ],
            "text/html": [
              "\n",
              "  <div id=\"df-0c665ab3-7700-4067-b631-dab510b91f94\" class=\"colab-df-container\">\n",
              "    <div>\n",
              "<style scoped>\n",
              "    .dataframe tbody tr th:only-of-type {\n",
              "        vertical-align: middle;\n",
              "    }\n",
              "\n",
              "    .dataframe tbody tr th {\n",
              "        vertical-align: top;\n",
              "    }\n",
              "\n",
              "    .dataframe thead th {\n",
              "        text-align: right;\n",
              "    }\n",
              "</style>\n",
              "<table border=\"1\" class=\"dataframe\">\n",
              "  <thead>\n",
              "    <tr style=\"text-align: right;\">\n",
              "      <th></th>\n",
              "      <th>Бальна оцінка показників, надана здобувачами освітньо-професійних програм</th>\n",
              "      <th>Unnamed: 1</th>\n",
              "      <th>Unnamed: 2</th>\n",
              "      <th>Unnamed: 3</th>\n",
              "      <th>Unnamed: 4</th>\n",
              "      <th>Unnamed: 5</th>\n",
              "      <th>Unnamed: 6</th>\n",
              "    </tr>\n",
              "  </thead>\n",
              "  <tbody>\n",
              "    <tr>\n",
              "      <th>0</th>\n",
              "      <td>Показники (фактори, що впливають на навчання з...</td>\n",
              "      <td>Комп’ютерні науки</td>\n",
              "      <td>Реклама у бізнесі</td>\n",
              "      <td>Менеджмент</td>\n",
              "      <td>Логістика та менеджмент продажів</td>\n",
              "      <td>Туризм</td>\n",
              "      <td>Право</td>\n",
              "    </tr>\n",
              "    <tr>\n",
              "      <th>1</th>\n",
              "      <td>Недостатній рівень підготовки в школі</td>\n",
              "      <td>32</td>\n",
              "      <td>37</td>\n",
              "      <td>16</td>\n",
              "      <td>25</td>\n",
              "      <td>13</td>\n",
              "      <td>52</td>\n",
              "    </tr>\n",
              "    <tr>\n",
              "      <th>2</th>\n",
              "      <td>Недостатнє забезпечення навчально-методичною л...</td>\n",
              "      <td>14</td>\n",
              "      <td>6</td>\n",
              "      <td>19</td>\n",
              "      <td>24</td>\n",
              "      <td>12</td>\n",
              "      <td>28</td>\n",
              "    </tr>\n",
              "    <tr>\n",
              "      <th>3</th>\n",
              "      <td>Незручний розклад</td>\n",
              "      <td>22</td>\n",
              "      <td>15</td>\n",
              "      <td>23</td>\n",
              "      <td>17</td>\n",
              "      <td>30</td>\n",
              "      <td>20</td>\n",
              "    </tr>\n",
              "    <tr>\n",
              "      <th>4</th>\n",
              "      <td>Надмірний обсяг навчального навантаження</td>\n",
              "      <td>44</td>\n",
              "      <td>18</td>\n",
              "      <td>14</td>\n",
              "      <td>25</td>\n",
              "      <td>27</td>\n",
              "      <td>48</td>\n",
              "    </tr>\n",
              "    <tr>\n",
              "      <th>5</th>\n",
              "      <td>Необхідність поєднувати навчання і роботу</td>\n",
              "      <td>10</td>\n",
              "      <td>34</td>\n",
              "      <td>26</td>\n",
              "      <td>50</td>\n",
              "      <td>46</td>\n",
              "      <td>35</td>\n",
              "    </tr>\n",
              "    <tr>\n",
              "      <th>6</th>\n",
              "      <td>Розчарування в освітній програмі (спеціальності)</td>\n",
              "      <td>15</td>\n",
              "      <td>17</td>\n",
              "      <td>13</td>\n",
              "      <td>15</td>\n",
              "      <td>18</td>\n",
              "      <td>24</td>\n",
              "    </tr>\n",
              "    <tr>\n",
              "      <th>7</th>\n",
              "      <td>Особиста неорганізованість</td>\n",
              "      <td>23</td>\n",
              "      <td>7</td>\n",
              "      <td>41</td>\n",
              "      <td>34</td>\n",
              "      <td>36</td>\n",
              "      <td>20</td>\n",
              "    </tr>\n",
              "    <tr>\n",
              "      <th>8</th>\n",
              "      <td>Відсутність інтересу до навчання</td>\n",
              "      <td>12</td>\n",
              "      <td>14</td>\n",
              "      <td>5</td>\n",
              "      <td>28</td>\n",
              "      <td>30</td>\n",
              "      <td>7</td>\n",
              "    </tr>\n",
              "    <tr>\n",
              "      <th>9</th>\n",
              "      <td>Вплив з боку інших студентів, що пережкоджає п...</td>\n",
              "      <td>35</td>\n",
              "      <td>22</td>\n",
              "      <td>16</td>\n",
              "      <td>18</td>\n",
              "      <td>14</td>\n",
              "      <td>33</td>\n",
              "    </tr>\n",
              "    <tr>\n",
              "      <th>10</th>\n",
              "      <td>Відсутність перспектив працевлаштування</td>\n",
              "      <td>5</td>\n",
              "      <td>8</td>\n",
              "      <td>39</td>\n",
              "      <td>43</td>\n",
              "      <td>30</td>\n",
              "      <td>9</td>\n",
              "    </tr>\n",
              "  </tbody>\n",
              "</table>\n",
              "</div>\n",
              "    <div class=\"colab-df-buttons\">\n",
              "\n",
              "  <div class=\"colab-df-container\">\n",
              "    <button class=\"colab-df-convert\" onclick=\"convertToInteractive('df-0c665ab3-7700-4067-b631-dab510b91f94')\"\n",
              "            title=\"Convert this dataframe to an interactive table.\"\n",
              "            style=\"display:none;\">\n",
              "\n",
              "  <svg xmlns=\"http://www.w3.org/2000/svg\" height=\"24px\" viewBox=\"0 -960 960 960\">\n",
              "    <path d=\"M120-120v-720h720v720H120Zm60-500h600v-160H180v160Zm220 220h160v-160H400v160Zm0 220h160v-160H400v160ZM180-400h160v-160H180v160Zm440 0h160v-160H620v160ZM180-180h160v-160H180v160Zm440 0h160v-160H620v160Z\"/>\n",
              "  </svg>\n",
              "    </button>\n",
              "\n",
              "  <style>\n",
              "    .colab-df-container {\n",
              "      display:flex;\n",
              "      gap: 12px;\n",
              "    }\n",
              "\n",
              "    .colab-df-convert {\n",
              "      background-color: #E8F0FE;\n",
              "      border: none;\n",
              "      border-radius: 50%;\n",
              "      cursor: pointer;\n",
              "      display: none;\n",
              "      fill: #1967D2;\n",
              "      height: 32px;\n",
              "      padding: 0 0 0 0;\n",
              "      width: 32px;\n",
              "    }\n",
              "\n",
              "    .colab-df-convert:hover {\n",
              "      background-color: #E2EBFA;\n",
              "      box-shadow: 0px 1px 2px rgba(60, 64, 67, 0.3), 0px 1px 3px 1px rgba(60, 64, 67, 0.15);\n",
              "      fill: #174EA6;\n",
              "    }\n",
              "\n",
              "    .colab-df-buttons div {\n",
              "      margin-bottom: 4px;\n",
              "    }\n",
              "\n",
              "    [theme=dark] .colab-df-convert {\n",
              "      background-color: #3B4455;\n",
              "      fill: #D2E3FC;\n",
              "    }\n",
              "\n",
              "    [theme=dark] .colab-df-convert:hover {\n",
              "      background-color: #434B5C;\n",
              "      box-shadow: 0px 1px 3px 1px rgba(0, 0, 0, 0.15);\n",
              "      filter: drop-shadow(0px 1px 2px rgba(0, 0, 0, 0.3));\n",
              "      fill: #FFFFFF;\n",
              "    }\n",
              "  </style>\n",
              "\n",
              "    <script>\n",
              "      const buttonEl =\n",
              "        document.querySelector('#df-0c665ab3-7700-4067-b631-dab510b91f94 button.colab-df-convert');\n",
              "      buttonEl.style.display =\n",
              "        google.colab.kernel.accessAllowed ? 'block' : 'none';\n",
              "\n",
              "      async function convertToInteractive(key) {\n",
              "        const element = document.querySelector('#df-0c665ab3-7700-4067-b631-dab510b91f94');\n",
              "        const dataTable =\n",
              "          await google.colab.kernel.invokeFunction('convertToInteractive',\n",
              "                                                    [key], {});\n",
              "        if (!dataTable) return;\n",
              "\n",
              "        const docLinkHtml = 'Like what you see? Visit the ' +\n",
              "          '<a target=\"_blank\" href=https://colab.research.google.com/notebooks/data_table.ipynb>data table notebook</a>'\n",
              "          + ' to learn more about interactive tables.';\n",
              "        element.innerHTML = '';\n",
              "        dataTable['output_type'] = 'display_data';\n",
              "        await google.colab.output.renderOutput(dataTable, element);\n",
              "        const docLink = document.createElement('div');\n",
              "        docLink.innerHTML = docLinkHtml;\n",
              "        element.appendChild(docLink);\n",
              "      }\n",
              "    </script>\n",
              "  </div>\n",
              "\n",
              "\n",
              "<div id=\"df-abf77aea-bfca-427f-970a-d7253601e608\">\n",
              "  <button class=\"colab-df-quickchart\" onclick=\"quickchart('df-abf77aea-bfca-427f-970a-d7253601e608')\"\n",
              "            title=\"Suggest charts\"\n",
              "            style=\"display:none;\">\n",
              "\n",
              "<svg xmlns=\"http://www.w3.org/2000/svg\" height=\"24px\"viewBox=\"0 0 24 24\"\n",
              "     width=\"24px\">\n",
              "    <g>\n",
              "        <path d=\"M19 3H5c-1.1 0-2 .9-2 2v14c0 1.1.9 2 2 2h14c1.1 0 2-.9 2-2V5c0-1.1-.9-2-2-2zM9 17H7v-7h2v7zm4 0h-2V7h2v10zm4 0h-2v-4h2v4z\"/>\n",
              "    </g>\n",
              "</svg>\n",
              "  </button>\n",
              "\n",
              "<style>\n",
              "  .colab-df-quickchart {\n",
              "      --bg-color: #E8F0FE;\n",
              "      --fill-color: #1967D2;\n",
              "      --hover-bg-color: #E2EBFA;\n",
              "      --hover-fill-color: #174EA6;\n",
              "      --disabled-fill-color: #AAA;\n",
              "      --disabled-bg-color: #DDD;\n",
              "  }\n",
              "\n",
              "  [theme=dark] .colab-df-quickchart {\n",
              "      --bg-color: #3B4455;\n",
              "      --fill-color: #D2E3FC;\n",
              "      --hover-bg-color: #434B5C;\n",
              "      --hover-fill-color: #FFFFFF;\n",
              "      --disabled-bg-color: #3B4455;\n",
              "      --disabled-fill-color: #666;\n",
              "  }\n",
              "\n",
              "  .colab-df-quickchart {\n",
              "    background-color: var(--bg-color);\n",
              "    border: none;\n",
              "    border-radius: 50%;\n",
              "    cursor: pointer;\n",
              "    display: none;\n",
              "    fill: var(--fill-color);\n",
              "    height: 32px;\n",
              "    padding: 0;\n",
              "    width: 32px;\n",
              "  }\n",
              "\n",
              "  .colab-df-quickchart:hover {\n",
              "    background-color: var(--hover-bg-color);\n",
              "    box-shadow: 0 1px 2px rgba(60, 64, 67, 0.3), 0 1px 3px 1px rgba(60, 64, 67, 0.15);\n",
              "    fill: var(--button-hover-fill-color);\n",
              "  }\n",
              "\n",
              "  .colab-df-quickchart-complete:disabled,\n",
              "  .colab-df-quickchart-complete:disabled:hover {\n",
              "    background-color: var(--disabled-bg-color);\n",
              "    fill: var(--disabled-fill-color);\n",
              "    box-shadow: none;\n",
              "  }\n",
              "\n",
              "  .colab-df-spinner {\n",
              "    border: 2px solid var(--fill-color);\n",
              "    border-color: transparent;\n",
              "    border-bottom-color: var(--fill-color);\n",
              "    animation:\n",
              "      spin 1s steps(1) infinite;\n",
              "  }\n",
              "\n",
              "  @keyframes spin {\n",
              "    0% {\n",
              "      border-color: transparent;\n",
              "      border-bottom-color: var(--fill-color);\n",
              "      border-left-color: var(--fill-color);\n",
              "    }\n",
              "    20% {\n",
              "      border-color: transparent;\n",
              "      border-left-color: var(--fill-color);\n",
              "      border-top-color: var(--fill-color);\n",
              "    }\n",
              "    30% {\n",
              "      border-color: transparent;\n",
              "      border-left-color: var(--fill-color);\n",
              "      border-top-color: var(--fill-color);\n",
              "      border-right-color: var(--fill-color);\n",
              "    }\n",
              "    40% {\n",
              "      border-color: transparent;\n",
              "      border-right-color: var(--fill-color);\n",
              "      border-top-color: var(--fill-color);\n",
              "    }\n",
              "    60% {\n",
              "      border-color: transparent;\n",
              "      border-right-color: var(--fill-color);\n",
              "    }\n",
              "    80% {\n",
              "      border-color: transparent;\n",
              "      border-right-color: var(--fill-color);\n",
              "      border-bottom-color: var(--fill-color);\n",
              "    }\n",
              "    90% {\n",
              "      border-color: transparent;\n",
              "      border-bottom-color: var(--fill-color);\n",
              "    }\n",
              "  }\n",
              "</style>\n",
              "\n",
              "  <script>\n",
              "    async function quickchart(key) {\n",
              "      const quickchartButtonEl =\n",
              "        document.querySelector('#' + key + ' button');\n",
              "      quickchartButtonEl.disabled = true;  // To prevent multiple clicks.\n",
              "      quickchartButtonEl.classList.add('colab-df-spinner');\n",
              "      try {\n",
              "        const charts = await google.colab.kernel.invokeFunction(\n",
              "            'suggestCharts', [key], {});\n",
              "      } catch (error) {\n",
              "        console.error('Error during call to suggestCharts:', error);\n",
              "      }\n",
              "      quickchartButtonEl.classList.remove('colab-df-spinner');\n",
              "      quickchartButtonEl.classList.add('colab-df-quickchart-complete');\n",
              "    }\n",
              "    (() => {\n",
              "      let quickchartButtonEl =\n",
              "        document.querySelector('#df-abf77aea-bfca-427f-970a-d7253601e608 button');\n",
              "      quickchartButtonEl.style.display =\n",
              "        google.colab.kernel.accessAllowed ? 'block' : 'none';\n",
              "    })();\n",
              "  </script>\n",
              "</div>\n",
              "    </div>\n",
              "  </div>\n"
            ],
            "application/vnd.google.colaboratory.intrinsic+json": {
              "type": "dataframe",
              "variable_name": "df",
              "summary": "{\n  \"name\": \"df\",\n  \"rows\": 11,\n  \"fields\": [\n    {\n      \"column\": \"\\u0411\\u0430\\u043b\\u044c\\u043d\\u0430 \\u043e\\u0446\\u0456\\u043d\\u043a\\u0430 \\u043f\\u043e\\u043a\\u0430\\u0437\\u043d\\u0438\\u043a\\u0456\\u0432, \\u043d\\u0430\\u0434\\u0430\\u043d\\u0430 \\u0437\\u0434\\u043e\\u0431\\u0443\\u0432\\u0430\\u0447\\u0430\\u043c\\u0438 \\u043e\\u0441\\u0432\\u0456\\u0442\\u043d\\u044c\\u043e-\\u043f\\u0440\\u043e\\u0444\\u0435\\u0441\\u0456\\u0439\\u043d\\u0438\\u0445 \\u043f\\u0440\\u043e\\u0433\\u0440\\u0430\\u043c\",\n      \"properties\": {\n        \"dtype\": \"string\",\n        \"num_unique_values\": 11,\n        \"samples\": [\n          \"\\u041d\\u0435\\u043e\\u0431\\u0445\\u0456\\u0434\\u043d\\u0456\\u0441\\u0442\\u044c \\u043f\\u043e\\u0454\\u0434\\u043d\\u0443\\u0432\\u0430\\u0442\\u0438 \\u043d\\u0430\\u0432\\u0447\\u0430\\u043d\\u043d\\u044f \\u0456 \\u0440\\u043e\\u0431\\u043e\\u0442\\u0443\",\n          \"\\u041f\\u043e\\u043a\\u0430\\u0437\\u043d\\u0438\\u043a\\u0438 (\\u0444\\u0430\\u043a\\u0442\\u043e\\u0440\\u0438, \\u0449\\u043e \\u0432\\u043f\\u043b\\u0438\\u0432\\u0430\\u044e\\u0442\\u044c \\u043d\\u0430 \\u043d\\u0430\\u0432\\u0447\\u0430\\u043d\\u043d\\u044f \\u0437\\u0430 \\u043e\\u0441\\u0432\\u0456\\u0442\\u043d\\u044c\\u043e\\u044e \\u043f\\u0440\\u043e\\u0433\\u0440\\u0430\\u043c\\u043e\\u044e)\",\n          \"\\u0412\\u043f\\u043b\\u0438\\u0432 \\u0437 \\u0431\\u043e\\u043a\\u0443 \\u0456\\u043d\\u0448\\u0438\\u0445 \\u0441\\u0442\\u0443\\u0434\\u0435\\u043d\\u0442\\u0456\\u0432, \\u0449\\u043e \\u043f\\u0435\\u0440\\u0435\\u0436\\u043a\\u043e\\u0434\\u0436\\u0430\\u0454 \\u043f\\u0440\\u043e\\u044f\\u0432\\u0443 \\u0437\\u0434\\u0456\\u0431\\u043d\\u043e\\u0441\\u0442\\u0435\\u0439 \\u0441\\u0442\\u0443\\u0434\\u0435\\u043d\\u0442\\u0430 \\u043f\\u0456\\u0434 \\u0447\\u0430\\u0441 \\u043d\\u0430\\u0432\\u0447\\u0430\\u043b\\u044c\\u043d\\u0438\\u0445 \\u0437\\u0430\\u043d\\u044f\\u0442\\u044c\"\n        ],\n        \"semantic_type\": \"\",\n        \"description\": \"\"\n      }\n    },\n    {\n      \"column\": \"Unnamed: 1\",\n      \"properties\": {\n        \"dtype\": \"string\",\n        \"num_unique_values\": 11,\n        \"samples\": [\n          10,\n          \"\\u041a\\u043e\\u043c\\u043f\\u2019\\u044e\\u0442\\u0435\\u0440\\u043d\\u0456 \\u043d\\u0430\\u0443\\u043a\\u0438\",\n          35\n        ],\n        \"semantic_type\": \"\",\n        \"description\": \"\"\n      }\n    },\n    {\n      \"column\": \"Unnamed: 2\",\n      \"properties\": {\n        \"dtype\": \"string\",\n        \"num_unique_values\": 11,\n        \"samples\": [\n          34,\n          \"\\u0420\\u0435\\u043a\\u043b\\u0430\\u043c\\u0430 \\u0443 \\u0431\\u0456\\u0437\\u043d\\u0435\\u0441\\u0456\",\n          22\n        ],\n        \"semantic_type\": \"\",\n        \"description\": \"\"\n      }\n    },\n    {\n      \"column\": \"Unnamed: 3\",\n      \"properties\": {\n        \"dtype\": \"string\",\n        \"num_unique_values\": 10,\n        \"samples\": [\n          5,\n          16,\n          26\n        ],\n        \"semantic_type\": \"\",\n        \"description\": \"\"\n      }\n    },\n    {\n      \"column\": \"Unnamed: 4\",\n      \"properties\": {\n        \"dtype\": \"string\",\n        \"num_unique_values\": 10,\n        \"samples\": [\n          18,\n          25,\n          15\n        ],\n        \"semantic_type\": \"\",\n        \"description\": \"\"\n      }\n    },\n    {\n      \"column\": \"Unnamed: 5\",\n      \"properties\": {\n        \"dtype\": \"string\",\n        \"num_unique_values\": 9,\n        \"samples\": [\n          36,\n          13,\n          46\n        ],\n        \"semantic_type\": \"\",\n        \"description\": \"\"\n      }\n    },\n    {\n      \"column\": \"Unnamed: 6\",\n      \"properties\": {\n        \"dtype\": \"string\",\n        \"num_unique_values\": 10,\n        \"samples\": [\n          33,\n          52,\n          35\n        ],\n        \"semantic_type\": \"\",\n        \"description\": \"\"\n      }\n    }\n  ]\n}"
            }
          },
          "metadata": {},
          "execution_count": 6
        }
      ]
    },
    {
      "cell_type": "markdown",
      "source": [
        "Побудуємо і відобразимо масив *opp* назв освітньо-професійних програм.\n",
        "<br>За допомогою об'єкта warnings усунемо попередження."
      ],
      "metadata": {
        "id": "_SsezaPw6sNw"
      }
    },
    {
      "cell_type": "code",
      "source": [
        "import warnings\n",
        "warnings.filterwarnings(\"ignore\")\n",
        "\n",
        "ncol = 7\n",
        "opp=df.iloc[0,1:ncol]\n",
        "print(type(opp))\n",
        "for j in range(ncol-1):\n",
        "  print(opp[j])"
      ],
      "metadata": {
        "colab": {
          "base_uri": "https://localhost:8080/"
        },
        "id": "1F79jsjK48WD",
        "outputId": "ff76f096-c466-450c-dadc-15e2ba80ea01"
      },
      "execution_count": 4,
      "outputs": [
        {
          "output_type": "stream",
          "name": "stdout",
          "text": [
            "<class 'pandas.core.series.Series'>\n",
            "Комп’ютерні науки\n",
            "Реклама у бізнесі\n",
            "Менеджмент\n",
            "Логістика та менеджмент продажів\n",
            "Туризм \n",
            "Право\n"
          ]
        }
      ]
    },
    {
      "cell_type": "markdown",
      "source": [
        "Побудуємо список *epn* назв експертних показників."
      ],
      "metadata": {
        "id": "711FEhlzO5Uh"
      }
    },
    {
      "cell_type": "code",
      "source": [
        "nrow = 12\n",
        "epn = df.iloc[1:nrow-1,0]\n",
        "print(type(epn))\n",
        "for i in range(10):\n",
        "  print(epn[i + 1])\n"
      ],
      "metadata": {
        "colab": {
          "base_uri": "https://localhost:8080/"
        },
        "id": "_EMi5hd059RX",
        "outputId": "f6e39267-0c55-45fa-b354-fef488c84d15"
      },
      "execution_count": 7,
      "outputs": [
        {
          "output_type": "stream",
          "name": "stdout",
          "text": [
            "<class 'pandas.core.series.Series'>\n",
            "Недостатній рівень підготовки в школі\n",
            "Недостатнє забезпечення навчально-методичною літературою (підручники, навчальні посібники, методичні вказівки)\n",
            "Незручний розклад\n",
            "Надмірний обсяг навчального навантаження\n",
            "Необхідність поєднувати навчання і роботу\n",
            "Розчарування в освітній програмі (спеціальності)\n",
            "Особиста неорганізованість\n",
            "Відсутність інтересу до навчання\n",
            "Вплив з боку інших студентів, що пережкоджає прояву здібностей студента під час навчальних занять\n",
            "Відсутність перспектив працевлаштування\n"
          ]
        }
      ]
    },
    {
      "cell_type": "markdown",
      "source": [
        "Відобразимо масив значень експертних показників у вигляді двовимірного масиву Numpy."
      ],
      "metadata": {
        "id": "hBmdrD4gFC1z"
      }
    },
    {
      "cell_type": "code",
      "source": [
        "epd = df.iloc[1:nrow -1, 1:ncol]\n",
        "vpd = epd.values\n",
        "print(type(vpd))\n",
        "print(vpd)"
      ],
      "metadata": {
        "colab": {
          "base_uri": "https://localhost:8080/"
        },
        "id": "7wdSzuRVSix2",
        "outputId": "58fdf73a-6eba-4e06-ac88-9d25ed5fd3e7"
      },
      "execution_count": 8,
      "outputs": [
        {
          "output_type": "stream",
          "name": "stdout",
          "text": [
            "<class 'numpy.ndarray'>\n",
            "[[32 37 16 25 13 52]\n",
            " [14 6 19 24 12 28]\n",
            " [22 15 23 17 30 20]\n",
            " [44 18 14 25 27 48]\n",
            " [10 34 26 50 46 35]\n",
            " [15 17 13 15 18 24]\n",
            " [23 7 41 34 36 20]\n",
            " [12 14 5 28 30 7]\n",
            " [35 22 16 18 14 33]\n",
            " [5 8 39 43 30 9]]\n"
          ]
        }
      ]
    },
    {
      "cell_type": "markdown",
      "source": [
        "# Розрахунок коефіцієнтів вагомості"
      ],
      "metadata": {
        "id": "qEc3jK1_sVO8"
      }
    },
    {
      "cell_type": "markdown",
      "source": [
        "Побудуємо список сум *sumopp* експертних показників."
      ],
      "metadata": {
        "id": "B1n1dCUi-QG3"
      }
    },
    {
      "cell_type": "code",
      "source": [
        "allsum = 0\n",
        "sumopp = []\n",
        "for i in range(nrow-2):\n",
        "  s = 0\n",
        "  for j in range(ncol-1):\n",
        "    d = vpd[i, j]\n",
        "    s = s + d\n",
        "  print(s, \"-->\", epn[i+1])\n",
        "  sumopp.append(s)\n",
        "  allsum = allsum + s"
      ],
      "metadata": {
        "colab": {
          "base_uri": "https://localhost:8080/"
        },
        "id": "qUUlQq7g4zXs",
        "outputId": "fa059312-a542-46ea-f9f3-32126749a705"
      },
      "execution_count": 10,
      "outputs": [
        {
          "output_type": "stream",
          "name": "stdout",
          "text": [
            "175 --> Недостатній рівень підготовки в школі\n",
            "103 --> Недостатнє забезпечення навчально-методичною літературою (підручники, навчальні посібники, методичні вказівки)\n",
            "127 --> Незручний розклад\n",
            "176 --> Надмірний обсяг навчального навантаження\n",
            "201 --> Необхідність поєднувати навчання і роботу\n",
            "102 --> Розчарування в освітній програмі (спеціальності)\n",
            "161 --> Особиста неорганізованість\n",
            "96 --> Відсутність інтересу до навчання\n",
            "138 --> Вплив з боку інших студентів, що пережкоджає прояву здібностей студента під час навчальних занять\n",
            "134 --> Відсутність перспектив працевлаштування\n"
          ]
        }
      ]
    },
    {
      "cell_type": "markdown",
      "source": [
        "Побудуємо список *weights* словників вагомості показників."
      ],
      "metadata": {
        "id": "sTUPlI_e-6V_"
      }
    },
    {
      "cell_type": "code",
      "source": [
        "weights = []\n",
        "for i in range(nrow - 2):\n",
        "  s = sumopp[i] / allsum\n",
        "  dict = {'ep':s, 'nep':epn[i + 1]}\n",
        "  print(dict['ep'], \"-->\", dict['nep'])\n",
        "  weights.append(dict)"
      ],
      "metadata": {
        "colab": {
          "base_uri": "https://localhost:8080/"
        },
        "id": "tBTh08fhyCBa",
        "outputId": "56395178-ac60-443c-94eb-0b34768ad490"
      },
      "execution_count": 11,
      "outputs": [
        {
          "output_type": "stream",
          "name": "stdout",
          "text": [
            "0.12384996461429583 --> Недостатній рівень підготовки в школі\n",
            "0.07289455060155697 --> Недостатнє забезпечення навчально-методичною літературою (підручники, навчальні посібники, методичні вказівки)\n",
            "0.08987968860580325 --> Незручний розклад\n",
            "0.12455767869780608 --> Надмірний обсяг навчального навантаження\n",
            "0.14225053078556263 --> Необхідність поєднувати навчання і роботу\n",
            "0.07218683651804671 --> Розчарування в освітній програмі (спеціальності)\n",
            "0.11394196744515216 --> Особиста неорганізованість\n",
            "0.06794055201698514 --> Відсутність інтересу до навчання\n",
            "0.09766454352441614 --> Вплив з боку інших студентів, що пережкоджає прояву здібностей студента під час навчальних занять\n",
            "0.09483368719037509 --> Відсутність перспектив працевлаштування\n"
          ]
        }
      ]
    },
    {
      "cell_type": "markdown",
      "source": [
        "Впорядкуємо список словників *weights* за спаданням коефіцієнтів вагомості."
      ],
      "metadata": {
        "id": "nOGo6d17FyC7"
      }
    },
    {
      "cell_type": "code",
      "source": [
        "sorted_weights = sorted(weights, key=lambda x: x['ep'], reverse=True)\n",
        "for i in range(nrow - 2):\n",
        "  dict = sorted_weights[i]\n",
        "  print(dict['ep'], \"-->\", dict['nep'])"
      ],
      "metadata": {
        "colab": {
          "base_uri": "https://localhost:8080/"
        },
        "id": "EbDUDVKjGDbj",
        "outputId": "38c1583a-f40a-4662-c40d-0cdbd3997d86"
      },
      "execution_count": 12,
      "outputs": [
        {
          "output_type": "stream",
          "name": "stdout",
          "text": [
            "0.14225053078556263 --> Необхідність поєднувати навчання і роботу\n",
            "0.12455767869780608 --> Надмірний обсяг навчального навантаження\n",
            "0.12384996461429583 --> Недостатній рівень підготовки в школі\n",
            "0.11394196744515216 --> Особиста неорганізованість\n",
            "0.09766454352441614 --> Вплив з боку інших студентів, що пережкоджає прояву здібностей студента під час навчальних занять\n",
            "0.09483368719037509 --> Відсутність перспектив працевлаштування\n",
            "0.08987968860580325 --> Незручний розклад\n",
            "0.07289455060155697 --> Недостатнє забезпечення навчально-методичною літературою (підручники, навчальні посібники, методичні вказівки)\n",
            "0.07218683651804671 --> Розчарування в освітній програмі (спеціальності)\n",
            "0.06794055201698514 --> Відсутність інтересу до навчання\n"
          ]
        }
      ]
    },
    {
      "cell_type": "markdown",
      "source": [
        "# **Ранжування**\n",
        "Перетворимо масив Numpy в масив Series Pandas і проранжуємо його.\n",
        "Параметр *strlen* обмежує довжину стрічок."
      ],
      "metadata": {
        "id": "0Jk71Fhuvufx"
      }
    },
    {
      "cell_type": "code",
      "source": [
        "arv = []\n",
        "for i in range(ncol-1):\n",
        "  row = []\n",
        "  for j in range(nrow-2):\n",
        "    row.append(vpd[j][i])\n",
        "  rv = pd.Series(row).rank(ascending=False)\n",
        "  arv.append(rv)"
      ],
      "metadata": {
        "id": "3oNGDcvjihSE"
      },
      "execution_count": 14,
      "outputs": []
    },
    {
      "cell_type": "markdown",
      "source": [
        "arv - це масив рангів показників.\n",
        "<br>Для компактного відображення даних введемо параметр *strlen*. Функція *cuts* обрізає рядки, якщо довжина перевищує *strlen*.\n",
        "<br>Якщо *strlen* == 0,\n",
        "тоді функція *cuts* не впливає на рядки."
      ],
      "metadata": {
        "id": "TPdt7LJUmwai"
      }
    },
    {
      "cell_type": "code",
      "source": [
        "params = {\"strlen\": 50}   # Довжина рядків обмежена 50 символами\n",
        "# params = {\"strlen\": 0}  # Необмежена довжина рядків"
      ],
      "metadata": {
        "id": "ahj4H-iLhhUL"
      },
      "execution_count": 15,
      "outputs": []
    },
    {
      "cell_type": "code",
      "source": [
        "def cuts(s):\n",
        "  n = params[\"strlen\"]\n",
        "  res = s\n",
        "  if n > 0 and len(s) > n:\n",
        "      res = s[:n]\n",
        "  return(res)"
      ],
      "metadata": {
        "id": "jkaxxPMwnvyj"
      },
      "execution_count": 16,
      "outputs": []
    },
    {
      "cell_type": "code",
      "source": [
        "# from IPython.display import HTML, display\n",
        "from tabulate import tabulate\n",
        "tabledata = []\n",
        "tablehead = ['Показник']\n",
        "for i in range(ncol-1):\n",
        "  s = cuts(opp[i])\n",
        "  tablehead.append(s)\n",
        "tabledata.append(tablehead)\n",
        "for i in range(nrow-2):\n",
        "  datarow = []\n",
        "  s = cuts(epn[i+1])\n",
        "  datarow.append(s)\n",
        "  for j in range(ncol-1):\n",
        "    r = arv[j][i]\n",
        "    datarow.append(r)\n",
        "  tabledata.append(datarow)\n",
        "print(tabulate(tabledata, headers='firstrow'))"
      ],
      "metadata": {
        "colab": {
          "base_uri": "https://localhost:8080/"
        },
        "id": "fQwHnTBPF_Rg",
        "outputId": "2e4282fb-5857-4997-9614-41edd0f7df8d"
      },
      "execution_count": 17,
      "outputs": [
        {
          "output_type": "stream",
          "name": "stdout",
          "text": [
            "Показник                                              Комп’ютерні науки    Реклама у бізнесі    Менеджмент    Логістика та менеджмент продажів    Туризм     Право\n",
            "--------------------------------------------------  -------------------  -------------------  ------------  ----------------------------------  ---------  -------\n",
            "Недостатній рівень підготовки в школі                                 3                    1           6.5                                 5.5          9      1\n",
            "Недостатнє забезпечення навчально-методичною літер                    7                   10           5                                   7           10      5\n",
            "Незручний розклад                                                     5                    6           4                                   9            4      7.5\n",
            "Надмірний обсяг навчального навантаження                              1                    4           8                                   5.5          6      2\n",
            "Необхідність поєднувати навчання і роботу                             9                    2           3                                   1            1      3\n",
            "Розчарування в освітній програмі (спеціальності)                      6                    5           9                                  10            7      6\n",
            "Особиста неорганізованість                                            4                    9           1                                   3            2      7.5\n",
            "Відсутність інтересу до навчання                                      8                    7          10                                   4            4     10\n",
            "Вплив з боку інших студентів, що пережкоджає прояв                    2                    3           6.5                                 8            8      4\n",
            "Відсутність перспектив працевлаштування                              10                    8           2                                   2            4      9\n"
          ]
        }
      ]
    },
    {
      "cell_type": "markdown",
      "source": [
        "Ранжуємо сумарні показники. Причому, їх ранжуємо за спаданням."
      ],
      "metadata": {
        "id": "xsMzStqBraGp"
      }
    },
    {
      "cell_type": "code",
      "source": [
        "stabledata = []\n",
        "src = []\n",
        "for i in range(nrow-2):\n",
        "  rsum = 0\n",
        "  for j in range(ncol-1):\n",
        "    rsum += arv[j][i]\n",
        "  src.append(rsum)\n",
        "srv = pd.Series(src).rank(ascending=True)\n",
        "stablehead = ['Показник','Сума', 'Ранг']\n",
        "stabledata.append(stablehead)\n",
        "for i in range(nrow-2):\n",
        "  s = cuts(epn[i+1])\n",
        "  srow = [s, src[i], srv[i]]\n",
        "  stabledata.append(srow)\n",
        "print(tabulate(stabledata, headers='firstrow'))"
      ],
      "metadata": {
        "colab": {
          "base_uri": "https://localhost:8080/"
        },
        "id": "7TJbE2K6s03A",
        "outputId": "05acfbf9-c9d3-4faf-d0c5-b2a9b82393bd"
      },
      "execution_count": 18,
      "outputs": [
        {
          "output_type": "stream",
          "name": "stdout",
          "text": [
            "Показник                                              Сума    Ранг\n",
            "--------------------------------------------------  ------  ------\n",
            "Недостатній рівень підготовки в школі                 26       2\n",
            "Недостатнє забезпечення навчально-методичною літер    44      10\n",
            "Незручний розклад                                     35.5     7\n",
            "Надмірний обсяг навчального навантаження              26.5     3.5\n",
            "Необхідність поєднувати навчання і роботу             19       1\n",
            "Розчарування в освітній програмі (спеціальності)      43       8.5\n",
            "Особиста неорганізованість                            26.5     3.5\n",
            "Відсутність інтересу до навчання                      43       8.5\n",
            "Вплив з боку інших студентів, що пережкоджає прояв    31.5     5\n",
            "Відсутність перспектив працевлаштування               35       6\n"
          ]
        }
      ]
    },
    {
      "cell_type": "markdown",
      "source": [
        "# **Розрахунок коефіцієнтів Спірмена**"
      ],
      "metadata": {
        "id": "NfDHrUdz8RBF"
      }
    },
    {
      "cell_type": "markdown",
      "source": [
        "Округлення дійсних чисел визначає параметр *round*.\n",
        "<br>Якщо цей параметр є цілим числом, тоді воно визначає кількість\n",
        "десяткових цифр результату.\n",
        "<br>Інакше дійсні числа не округлюються."
      ],
      "metadata": {
        "id": "5NUQMXctN8M7"
      }
    },
    {
      "cell_type": "code",
      "source": [
        "params[\"round\"] = 2\n",
        "# params[\"round\"] = \"\""
      ],
      "metadata": {
        "id": "XGT78h4hHIfc"
      },
      "execution_count": 19,
      "outputs": []
    },
    {
      "cell_type": "markdown",
      "source": [
        "Округлення реалізує функція *nround*."
      ],
      "metadata": {
        "id": "wuD1lQlXOKHK"
      }
    },
    {
      "cell_type": "code",
      "source": [
        "def nround(x):\n",
        "  n = params[\"round\"]\n",
        "  if type(n) is int:\n",
        "    y = round(x, n)\n",
        "    return(y)\n",
        "  else:\n",
        "    return(x)"
      ],
      "metadata": {
        "id": "JWrA0X2NHlZs"
      },
      "execution_count": 20,
      "outputs": []
    },
    {
      "cell_type": "markdown",
      "source": [
        "Функція *spearman* визначає кофіцієнт Спірмена між рангами експертних оцінок ОПП номер  *n* та *m*."
      ],
      "metadata": {
        "id": "BxXt75PVOURC"
      }
    },
    {
      "cell_type": "code",
      "source": [
        "def spearman(n, m):\n",
        "  e1 = arv[n]\n",
        "  e2 = arv[m]\n",
        "  data = {'e1': e1, 'e2': e2}\n",
        "  df = pd.DataFrame(data)\n",
        "  spearman_corr = df['e1'].corr(df['e2'], method='spearman')\n",
        "  # print(opp[n])\n",
        "  # print(opp[m])\n",
        "  rs = nround(spearman_corr)\n",
        "  return rs"
      ],
      "metadata": {
        "id": "FpsjEg97-ByF"
      },
      "execution_count": 23,
      "outputs": []
    },
    {
      "cell_type": "code",
      "source": [
        "oppn = ['ОПП']\n",
        "for i in range(1,ncol-1):\n",
        "  oppn.append(opp[i])\n",
        "aks = [oppn]\n",
        "for i in range(ncol-2):\n",
        "  rks = [opp[i]]\n",
        "  for j in range(1, ncol-1):\n",
        "    if j >= i+1:\n",
        "      rs = spearman(i,j)\n",
        "    else:\n",
        "      rs = \"\"\n",
        "    rks.append(rs)\n",
        "  aks.append(rks)\n",
        "# aks\n",
        "print(tabulate(aks, headers='firstrow'))"
      ],
      "metadata": {
        "colab": {
          "base_uri": "https://localhost:8080/"
        },
        "id": "RRGavbv_QoWZ",
        "outputId": "d52d7753-b6d2-433b-cb54-2143e5b35681"
      },
      "execution_count": 35,
      "outputs": [
        {
          "output_type": "stream",
          "name": "stdout",
          "text": [
            "ОПП                               Реклама у бізнесі    Менеджмент    Логістика та менеджмент продажів    Туризм       Право\n",
            "--------------------------------  -------------------  ------------  ----------------------------------  ---------  -------\n",
            "Комп’ютерні науки                 0.37                 -0.27         -0.46                               -0.4          0.56\n",
            "Реклама у бізнесі                                      -0.3          -0.05                               -0.08         0.72\n",
            "Менеджмент                                                           0.49                                0.47         -0.13\n",
            "Логістика та менеджмент продажів                                                                         0.63         -0.1\n",
            "Туризм                                                                                                                -0.41\n"
          ]
        }
      ]
    },
    {
      "cell_type": "markdown",
      "source": [
        "\n",
        "#Розрахунок коефіцієнта конкордації Кенделла\n",
        "\n"
      ],
      "metadata": {
        "id": "Z4biG-TRVeEp"
      }
    },
    {
      "cell_type": "code",
      "source": [
        "import numpy as np\n",
        "\n",
        "def kendall_concordance(ranks):\n",
        "  m, n = ranks.shape\n",
        "  mean_rank = np.mean(ranks, axis=0)\n",
        "  ss = np.sum((ranks - mean_rank)**2)\n",
        "  print(ss)\n",
        "  res = 12 * ss / (m**2 * (n**3 - n))\n",
        "  return res"
      ],
      "metadata": {
        "id": "NHwTruf0rswj"
      },
      "execution_count": 71,
      "outputs": []
    },
    {
      "cell_type": "code",
      "source": [
        "np_arv = np.array(arv)\n",
        "print(type(np_arv))\n",
        "np_arv"
      ],
      "metadata": {
        "colab": {
          "base_uri": "https://localhost:8080/"
        },
        "id": "Q5c94T1BbFjh",
        "outputId": "a1952b94-7030-44a0-b5de-d1b693f1dc09"
      },
      "execution_count": 78,
      "outputs": [
        {
          "output_type": "stream",
          "name": "stdout",
          "text": [
            "<class 'numpy.ndarray'>\n"
          ]
        },
        {
          "output_type": "execute_result",
          "data": {
            "text/plain": [
              "array([[ 3. ,  7. ,  5. ,  1. ,  9. ,  6. ,  4. ,  8. ,  2. , 10. ],\n",
              "       [ 1. , 10. ,  6. ,  4. ,  2. ,  5. ,  9. ,  7. ,  3. ,  8. ],\n",
              "       [ 6.5,  5. ,  4. ,  8. ,  3. ,  9. ,  1. , 10. ,  6.5,  2. ],\n",
              "       [ 5.5,  7. ,  9. ,  5.5,  1. , 10. ,  3. ,  4. ,  8. ,  2. ],\n",
              "       [ 9. , 10. ,  4. ,  6. ,  1. ,  7. ,  2. ,  4. ,  8. ,  4. ],\n",
              "       [ 1. ,  5. ,  7.5,  2. ,  3. ,  6. ,  7.5, 10. ,  4. ,  9. ]])"
            ]
          },
          "metadata": {},
          "execution_count": 78
        }
      ]
    },
    {
      "cell_type": "code",
      "source": [
        "concordance = kendall_concordance(np_arv)\n",
        "print(\"Коефіцієнт конкордації:\", concordance)"
      ],
      "metadata": {
        "colab": {
          "base_uri": "https://localhost:8080/"
        },
        "id": "BKgSiQbNctFh",
        "outputId": "3a6cdd68-9246-45ec-a8e9-40ab3dd7f1d6"
      },
      "execution_count": 79,
      "outputs": [
        {
          "output_type": "stream",
          "name": "stdout",
          "text": [
            "381.0\n",
            "Коефіцієнт конкордації: 0.12828282828282828\n"
          ]
        }
      ]
    },
    {
      "cell_type": "code",
      "source": [
        "transposed_matrix = np_arv.T\n",
        "transposed_matrix"
      ],
      "metadata": {
        "colab": {
          "base_uri": "https://localhost:8080/"
        },
        "id": "mZUSs0ldbydQ",
        "outputId": "211b7a1b-789a-490f-c8a3-465fb8ef5756"
      },
      "execution_count": 76,
      "outputs": [
        {
          "output_type": "execute_result",
          "data": {
            "text/plain": [
              "array([[ 3. ,  1. ,  6.5,  5.5,  9. ,  1. ],\n",
              "       [ 7. , 10. ,  5. ,  7. , 10. ,  5. ],\n",
              "       [ 5. ,  6. ,  4. ,  9. ,  4. ,  7.5],\n",
              "       [ 1. ,  4. ,  8. ,  5.5,  6. ,  2. ],\n",
              "       [ 9. ,  2. ,  3. ,  1. ,  1. ,  3. ],\n",
              "       [ 6. ,  5. ,  9. , 10. ,  7. ,  6. ],\n",
              "       [ 4. ,  9. ,  1. ,  3. ,  2. ,  7.5],\n",
              "       [ 8. ,  7. , 10. ,  4. ,  4. , 10. ],\n",
              "       [ 2. ,  3. ,  6.5,  8. ,  8. ,  4. ],\n",
              "       [10. ,  8. ,  2. ,  2. ,  4. ,  9. ]])"
            ]
          },
          "metadata": {},
          "execution_count": 76
        }
      ]
    },
    {
      "cell_type": "code",
      "source": [
        "np_arv = np.array(transposed_matrix)\n",
        "concordance = kendall_concordance(np_arv)\n",
        "print(\"Коефіцієнт конкордації:\", concordance)"
      ],
      "metadata": {
        "colab": {
          "base_uri": "https://localhost:8080/"
        },
        "id": "plLaxsSyZN8h",
        "outputId": "e63d1dde-3be1-45d6-e698-27f7337702a6"
      },
      "execution_count": 77,
      "outputs": [
        {
          "output_type": "stream",
          "name": "stdout",
          "text": [
            "491.5\n",
            "Коефіцієнт конкордації: 0.28085714285714286\n"
          ]
        }
      ]
    }
  ]
}